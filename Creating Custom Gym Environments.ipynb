{
 "cells": [
  {
   "cell_type": "markdown",
   "metadata": {},
   "source": [
    "# Creating Custom OpenAI Gym Environments\n",
    "\n",
    "This tutorial will cover how to create a custom environment using OpenAI Gym. You can follow along with the full tutorial [on the Paperspace blog](https://blog.paperspace.com/creating-custom-environments-openai-gym/). \n",
    "\n",
    "This tutorial assumes you possess a basic understanding of how to use OpenAI Gym. If that is not the case, please go through Part 1 of the OpenAI gym tutorial [here](https://blog.paperspace.com/getting-started-with-openai-gym/).\n",
    "\n",
    "We first begin with installing some important dependencies. "
   ]
  },
  {
   "cell_type": "code",
   "execution_count": null,
   "metadata": {},
   "outputs": [],
   "source": [
    "# !pip install opencv-python \n",
    "# !pip install pillow\n",
    "# !pip install jdc"
   ]
  },
  {
   "cell_type": "markdown",
   "metadata": {},
   "source": [
    "We also start with the necessary imports."
   ]
  },
  {
   "cell_type": "code",
   "execution_count": 3,
   "metadata": {},
   "outputs": [],
   "source": [
    "import numpy as np \n",
    "import cv2 \n",
    "import matplotlib.pyplot as plt\n",
    "import PIL.Image as Image\n",
    "import gym\n",
    "import random\n",
    "import jdc\n",
    "\n",
    "from gym import Env, spaces\n",
    "import time\n",
    "\n",
    "\n",
    "plt.rcParams['figure.figsize'] = (30,40)\n",
    "\n",
    "font = cv2.FONT_HERSHEY_COMPLEX_SMALL \n"
   ]
  },
  {
   "cell_type": "markdown",
   "metadata": {},
   "source": [
    "## Description of the Environment \n",
    "\n",
    "The environment that we are creating is basically a game that is heavily inspired by the Dino Run game that one gets to play in Google Chrome if you are disconnected from the internet. There is a dinosaur, and you have to jump over cacti and avoid hitting birds. The distance you cover is representative of the reward you end up getting. \n",
    "\n",
    "In our game, instead of a dinosaur, our agent is going to be a Chopper pilot. \n",
    "\n",
    "1. The chopper has to cover as much distance as possible to get the maximum reward. There will be birds that the chopper also has to avoid. \n",
    "2. The episode terminates in case of a bird strike. Episodes can also terminate if the Chopper runs out of fuel.\n",
    "3. Just like birds, there are floating fuel stations (yes, no points for being close to reality, I know!) which the Chopper can collect to refuel to its full capacity (which is fixed at 1000 L).\n",
    "\n",
    "Note that this is going to be just a proof of concept, and not the most aesthetically pleasing game. However, in case you want to improve on it, this post will leave you with enough knowledge to do so!\n",
    "\n",
    "The very first consideration while designing an environment is to decide what sort of observation space and action space we will be using. \n",
    "\n",
    "* The observation space can be either continuous or discrete. An example of a discrete action space is that of a grid-world where the action space is defined by cells, and the agent could be inside one of those cells. An example of a continiuous action space is where the position of the agent is described by real-valued coordinates.\n",
    "* The action space can be either continuous or discrete as well. An example of a discrete space is where each action corresponds to a particular behavior of the agent, but that behavior cannot be quantified. An example of this is Mario Bros, where each action would lead to move left, move right, jump, etc. Your actions can't quantify the behaviour being produced, i.e. you can only jump and not jump high, higher, or lower. However, in a game like Angry Birds for instance, you decide how much to stretch the slingshot (i.e. you quantify it). \n",
    "\n",
    "\n",
    "### ChopperScape Class\n",
    "\n",
    "We begin my implementing the `__init__` function of our environment class, `ChopperScape`. In the `__init__` function, we will define the observation and the action spaces. In addition to that, we will also implement a few other attributes:\n",
    "\n",
    "1. `canvas`: This represents our observation image. \n",
    "2. `x_min, y_min, x_max, y_max`: This defines the legitimate area of our screen where various elements such as the Chopper and birds can be placed. Other areas are reserved for displaying info such as fuel left, rewards, and padding. \n",
    "3. `elements`: This stores the active elements stored in the screen at any given time (like the chopper, birds, etc.)\n",
    "4. `max_fuel`: Maximum fuel that the chopper can hold."
   ]
  },
  {
   "cell_type": "code",
   "execution_count": 4,
   "metadata": {},
   "outputs": [],
   "source": [
    "class ChopperScape(Env):\n",
    "    def __init__(self):\n",
    "        super(ChopperScape, self).__init__()\n",
    "        \n",
    "\n",
    "        \n",
    "        # Define a 2-D observation space\n",
    "        self.observation_shape = (600, 800, 3)\n",
    "        self.observation_space = spaces.Box(low = np.zeros(self.observation_shape), \n",
    "                                            high = np.ones(self.observation_shape),\n",
    "                                            dtype = np.float16)\n",
    "    \n",
    "        \n",
    "        # Define an action space ranging from 0 to 4\n",
    "        self.action_space = spaces.Discrete(6,)\n",
    "                        \n",
    "        # Create a canvas to render the environment images upon \n",
    "        self.canvas = np.ones(self.observation_shape) * 1\n",
    "        \n",
    "        # Define elements present inside the environment\n",
    "        self.elements = []\n",
    "        \n",
    "        # Maximum fuel chopper can take at once\n",
    "        self.max_fuel = 1000\n",
    "\n",
    "        # Permissible area of helicper to be \n",
    "        self.y_min = int (self.observation_shape[0] * 0.1)\n",
    "        self.x_min = 0\n",
    "        self.y_max = int (self.observation_shape[0] * 0.9)\n",
    "        self.x_max = self.observation_shape[1]\n",
    "        \n"
   ]
  },
  {
   "cell_type": "markdown",
   "metadata": {},
   "source": [
    "## Elements of the Environment \n",
    "\n",
    "Once we have determined the action space and the observation space, we need to finalize what would be the elements of our environment. In our game, we have three distinct elements: The Chopper, Flying Birds, and and Floating Fuel Stations. We will be implementing all of these as seperate classes that inherit from a common base class called `Point`. \n",
    "\n",
    "### Point Base Class\n",
    "\n",
    "The `Point` class is used to define any arbitrary point on our observation image. We define this class with the following attributes:\n",
    "\n",
    "* `(x,y)`: Position of the point on the image. \n",
    "* `(x_min, x_max, y_min, y_max)`: Permissible coordinates for the point. If we try to set the position of the point outside these limits, the position values are clamped to these limits. \n",
    "*  `name`: Name of the point. \n",
    "\n",
    "\n",
    "We define the following member functions for this class. \n",
    "\n",
    "* `get_position`: Get the coordinates of the point\n",
    "* `set_position`: Set the coordinates of the point to a certain value.\n",
    "* `move`        : Move the points by a certain value."
   ]
  },
  {
   "cell_type": "code",
   "execution_count": 5,
   "metadata": {},
   "outputs": [],
   "source": [
    "class Point(object):\n",
    "    def __init__(self, name, x_max, x_min, y_max, y_min):\n",
    "        self.x = 0\n",
    "        self.y = 0\n",
    "        self.x_min = x_min\n",
    "        self.x_max = x_max\n",
    "        self.y_min = y_min\n",
    "        self.y_max = y_max\n",
    "        self.name = name\n",
    "    \n",
    "    def set_position(self, x, y):\n",
    "        self.x = self.clamp(x, self.x_min, self.x_max - self.icon_w)\n",
    "        self.y = self.clamp(y, self.y_min, self.y_max - self.icon_h)\n",
    "    \n",
    "    def get_position(self):\n",
    "        return (self.x, self.y)\n",
    "    \n",
    "    def move(self, del_x, del_y):\n",
    "        self.x += del_x\n",
    "        self.y += del_y\n",
    "        \n",
    "        self.x = self.clamp(self.x, self.x_min, self.x_max - self.icon_w)\n",
    "        self.y = self.clamp(self.y, self.y_min, self.y_max - self.icon_h)\n",
    "\n",
    "    def clamp(self, n, minn, maxn):\n",
    "        return max(min(maxn, n), minn)"
   ]
  },
  {
   "cell_type": "markdown",
   "metadata": {},
   "source": [
    "Now we define the classes `Chopper`, `Bird`, and `Fuel`. These classes are derived from the `Point` class, and introduce a set of new attribues:\n",
    "\n",
    "* `icon`            : Icon of the point that will display on the  observation image when the game is rendered.\n",
    "* `(icon_w, icon_h)`: Dimensions of the icon. \n"
   ]
  },
  {
   "cell_type": "code",
   "execution_count": 6,
   "metadata": {},
   "outputs": [],
   "source": [
    "class Chopper(Point):\n",
    "    def __init__(self, name, x_max, x_min, y_max, y_min):\n",
    "        super(Chopper, self).__init__(name, x_max, x_min, y_max, y_min)\n",
    "        self.icon = cv2.imread(\"chopper.png\") / 255.0\n",
    "        self.icon_w = 64\n",
    "        self.icon_h = 64\n",
    "        self.icon = cv2.resize(self.icon, (self.icon_h, self.icon_w))\n",
    "\n",
    "    \n",
    "class Bird(Point):\n",
    "    def __init__(self, name, x_max, x_min, y_max, y_min):\n",
    "        super(Bird, self).__init__(name, x_max, x_min, y_max, y_min)\n",
    "        self.icon = cv2.imread(\"bird.png\") / 255.0\n",
    "        self.icon_w = 32\n",
    "        self.icon_h = 32\n",
    "        self.icon = cv2.resize(self.icon, (self.icon_h, self.icon_w))\n",
    "    \n",
    "class Fuel(Point):\n",
    "    def __init__(self, name, x_max, x_min, y_max, y_min):\n",
    "        super(Fuel, self).__init__(name, x_max, x_min, y_max, y_min)\n",
    "        self.icon = cv2.imread(\"fuel.png\") / 255.0\n",
    "        self.icon_w = 32\n",
    "        self.icon_h = 32\n",
    "        self.icon = cv2.resize(self.icon, (self.icon_h, self.icon_w))\n",
    "    \n"
   ]
  },
  {
   "cell_type": "markdown",
   "metadata": {},
   "source": [
    "## Back to the ChopperScape Class\n",
    "\n",
    "Recall from [Part 1](https://blog.paperspace.com/getting-started-with-openai-gym/) that any gym `Env` class has two important functions:\n",
    "\n",
    "1. `reset`: Resets the environment to the initial state and returns the initial observation. \n",
    "2. `step` : Executes a step in the environment by applying an action. Returns the new observation, reward, done status, and other info. \n",
    "\n",
    "In this section, we will be implementing the `reset` and `step` functions of our environment along with many other helper functions. We begin with `reset` function. \n",
    "\n",
    "### Reset Function \n",
    "\n",
    "When we reset our environment, we need to reset all the state-based variables in our environment. These include things like fuel consumed, episodic return, and the elements present inside the environment. \n",
    "\n",
    "In our case, when we reset our environment, we have nothing but the Chopper in our environment in the initial state. We intialize our chopper randomly in an area in the top-left of our image. This area is 5-10 percent of the image width and 15-20 percent of the image height.\n",
    "\n",
    "We also define a helper function called `draw_elements_on_canvas` that basically places the icons of each of the elements present in the game at their respective positions in the observation image. If the position is beyond the permissible range, then the icons are placed on the range boundaries. We also print important information, such as fuel left, using this function.\n",
    "\n",
    "We finally return the canvas on which the elements have been placed as the observation."
   ]
  },
  {
   "cell_type": "code",
   "execution_count": 7,
   "metadata": {},
   "outputs": [],
   "source": [
    "%%add_to ChopperScape\n",
    "\n",
    "def draw_elements_on_canvas(self):\n",
    "    # Init the canvas \n",
    "    self.canvas = np.ones(self.observation_shape) * 1\n",
    "\n",
    "    # Draw the heliopter on canvas\n",
    "    for elem in self.elements:\n",
    "        elem_shape = elem.icon.shape\n",
    "        x,y = elem.x, elem.y\n",
    "        self.canvas[y : y + elem_shape[1], x:x + elem_shape[0]] = elem.icon\n",
    "\n",
    "    text = 'Fuel Left: {} | Rewards: {}'.format(self.fuel_left, self.ep_return)\n",
    "\n",
    "    # Put the info on canvas \n",
    "    self.canvas = cv2.putText(self.canvas, text, (10,20), font,  \n",
    "               0.8, (0,0,0), 1, cv2.LINE_AA)\n",
    "\n",
    "def reset(self):\n",
    "    # Reset the fuel consumed\n",
    "    self.fuel_left = self.max_fuel\n",
    "\n",
    "    # Reset the reward\n",
    "    self.ep_return  = 0\n",
    "\n",
    "    # Number of birds\n",
    "    self.bird_count = 0\n",
    "    self.fuel_count = 0\n",
    "\n",
    "    # Determine a place to intialise the chopper in\n",
    "    x = random.randrange(int(self.observation_shape[0] * 0.05), int(self.observation_shape[0] * 0.10))\n",
    "    y = random.randrange(int(self.observation_shape[1] * 0.15), int(self.observation_shape[1] * 0.20))\n",
    "    \n",
    "    # Intialise the chopper\n",
    "    self.chopper = Chopper(\"chopper\", self.x_max, self.x_min, self.y_max, self.y_min)\n",
    "    self.chopper.set_position(x,y)\n",
    "\n",
    "    # Intialise the elements \n",
    "    self.elements = [self.chopper]\n",
    "\n",
    "    # Reset the Canvas \n",
    "    self.canvas = np.ones(self.observation_shape) * 1\n",
    "\n",
    "    # Draw elements on the canvas\n",
    "    self.draw_elements_on_canvas()\n",
    "\n",
    "\n",
    "    # return the observation\n",
    "    return self.canvas \n"
   ]
  },
  {
   "cell_type": "markdown",
   "metadata": {},
   "source": [
    "Before we proceed further, let us now see how our initial observation looks like. "
   ]
  },
  {
   "cell_type": "code",
   "execution_count": 8,
   "metadata": {},
   "outputs": [
    {
     "name": "stderr",
     "output_type": "stream",
     "text": [
      "/home/ayoosh/miniconda3/lib/python3.7/site-packages/gym/logger.py:30: UserWarning: \u001b[33mWARN: Box bound precision lowered by casting to float16\u001b[0m\n",
      "  warnings.warn(colorize('%s: %s'%('WARN', msg % args), 'yellow'))\n"
     ]
    },
    {
     "data": {
      "text/plain": [
       "<matplotlib.image.AxesImage at 0x7f53794e78d0>"
      ]
     },
     "execution_count": 8,
     "metadata": {},
     "output_type": "execute_result"
    },
    {
     "data": {
      "image/png": "[encoded data removed]",
      "text/plain": [
       "<Figure size 2160x2880 with 1 Axes>"
      ]
     },
     "metadata": {
      "needs_background": "light"
     },
     "output_type": "display_data"
    }
   ],
   "source": [
    "env = ChopperScape()\n",
    "obs = env.reset()\n",
    "plt.imshow(obs)"
   ]
  },
  {
   "cell_type": "markdown",
   "metadata": {},
   "source": [
    "Since our observation is the same as the gameplay screen of the game, our render function shall return our observation, too. We build functionality for two modes, one `human` which would render the game in a pop-up window, while `rgb_array` returns it as a pixel array."
   ]
  },
  {
   "cell_type": "code",
   "execution_count": 9,
   "metadata": {
    "scrolled": true
   },
   "outputs": [
    {
     "data": {
      "image/png": "[encoded data removed]",
      "text/plain": [
       "<Figure size 2160x2880 with 1 Axes>"
      ]
     },
     "metadata": {
      "needs_background": "light"
     },
     "output_type": "display_data"
    }
   ],
   "source": [
    "%%add_to ChopperScape\n",
    "\n",
    "def render(self, mode = \"human\"):\n",
    "    assert mode in [\"human\", \"rgb_array\"], \"Invalid mode, must be either \\\"human\\\" or \\\"rgb_array\\\"\"\n",
    "    if mode == \"human\":\n",
    "        cv2.imshow(\"Game\", self.canvas)\n",
    "        cv2.waitKey(10)\n",
    "    \n",
    "    elif mode == \"rgb_array\":\n",
    "        return self.canvas\n",
    "    \n",
    "def close(self):\n",
    "    cv2.destroyAllWindows()\n",
    "\n",
    "env = ChopperScape()\n",
    "obs = env.reset()\n",
    "screen = env.render(mode = \"rgb_array\")\n",
    "plt.imshow(screen)\n"
   ]
  },
  {
   "cell_type": "markdown",
   "metadata": {},
   "source": [
    "### Step Function \n",
    "\n",
    "Now that we have the `reset` function out of the way, we begin work on implementing the `step` function, which will contain the code to transition our environment from one state to the next given an action. In many ways, this section is the proverbial meat of our environment, and this is where the most planning goes. \n",
    "\n",
    "We first need to enlist things that need to happen in one transition step of the environment. This can be basically broken down into two parts: \n",
    "\n",
    "1. Applying actions to our agent. \n",
    "2. Everything else that happens in the environments, such as behavior of the non-RL actors (birds and floating gas stations). \n",
    "\n",
    "So let's first focus on (1). We provide actions to the game that will control what our chopper does. We basically have 5 actions, which are move right, left, down, up, or do nothing, denoted by 0, 1, 2, 3, and 4, respectively.  \n",
    "\n",
    "We define a member function called `get_action_meanings()` that will tell us what integer each action is mapped to for our reference. "
   ]
  },
  {
   "cell_type": "code",
   "execution_count": 10,
   "metadata": {},
   "outputs": [],
   "source": [
    "%%add_to ChopperScape\n",
    "\n",
    "def get_action_meanings(self):\n",
    "    return {0: \"Right\", 1: \"Left\", 2: \"Down\", 3: \"Up\", 4: \"Do Nothing\"}"
   ]
  },
  {
   "cell_type": "markdown",
   "metadata": {},
   "source": [
    "We also validate whether the action being passed is a valid action or not by checking whether it's present in the action space. If not, we raise an assertion. \n",
    "\n",
    "```\n",
    "# Assert that it is a valid action \n",
    "assert self.action_space.contains(action), \"Invalid Action\"\n",
    "```\n",
    "\n",
    "Once that is done, we accordingly change the position of the chopper using the `move` function we defined earlier. Each action results in movement by 5 coordinates in the respective directions. \n",
    "\n",
    "```\n",
    "# apply the action to the chopper\n",
    "if action == 0:\n",
    "    self.chopper.move(0,5)\n",
    "elif action == 1:\n",
    "    self.chopper.move(0,-5)\n",
    "elif action == 2:\n",
    "    self.chopper.move(5,0)\n",
    "elif action == 3:\n",
    "    self.chopper.move(-5,0)\n",
    "elif action == 4:\n",
    "    self.chopper.move(0,0)\n",
    "```\n",
    "\n",
    "Now that we have taken care of applying the action to the chopper, we focus on the other elements of the environment:\n",
    "\n",
    "* Birds spawn randomly from the right edge of the screen with a probability of 1% (i.e. a bird is likely to appear on the right edge once every hundred frames). The bird moves 5 coordinates every frame to the left. If they hit the Chopper the game ends. Otherwise, they disappear from the game once they reach the left edge. \n",
    "\n",
    "* Fuel tanks spawn randomly from the bottom edge of the screen with a probability of 1% (i.e. a fuel tank is likely to appear on the bottom edge once every hundred frames). The bird moves 5 coordinates up every frame. If they hit the Chopper, the Chopper is fuelled to its full capacity. Otherwise, they disappear from the game once they reach the top edge. \n",
    "\n",
    "In order to implement the features outlined above, we need to implement a helper function that helps us determine whether two `Point` objects (such as a Chopper/Bird, Chopper/Fuel Tank) have collided or not. How do we define a collision? We say that two points have collided when the distance between the coordinates of their centers is less half of the sum of their dimensions. We call this function `has_collided`."
   ]
  },
  {
   "cell_type": "code",
   "execution_count": 11,
   "metadata": {},
   "outputs": [],
   "source": [
    "%%add_to ChopperScape\n",
    "\n",
    "def has_collided(self, elem1, elem2):\n",
    "    x_col = False\n",
    "    y_col = False\n",
    "\n",
    "    elem1_x, elem1_y = elem1.get_position()\n",
    "    elem2_x, elem2_y = elem2.get_position()\n",
    "\n",
    "    if 2 * abs(elem1_x - elem2_x) <= (elem1.icon_w + elem2.icon_w):\n",
    "        x_col = True\n",
    "\n",
    "    if 2 * abs(elem1_y - elem2_y) <= (elem1.icon_h + elem2.icon_h):\n",
    "        y_col = True\n",
    "\n",
    "    if x_col and y_col:\n",
    "        return True\n",
    "\n",
    "    return False"
   ]
  },
  {
   "cell_type": "markdown",
   "metadata": {},
   "source": [
    "Apart from this, we have to do some book-keeping. The reward for each step is 1, therefore, the episodic return counter is updated by 1 every episode. If there is a collision, the reward is -10 and the episode terminates. The fuel counter is reduced by 1 at every step. \n",
    "\n",
    "Finally, we implement our `step` function. I've wrote extensive comments to guide you through it. "
   ]
  },
  {
   "cell_type": "code",
   "execution_count": 12,
   "metadata": {},
   "outputs": [],
   "source": [
    "%%add_to ChopperScape\n",
    "\n",
    "def step(self, action):\n",
    "    # Flag that marks the termination of an episode\n",
    "    done = False\n",
    "    \n",
    "    # Assert that it is a valid action \n",
    "    assert self.action_space.contains(action), \"Invalid Action\"\n",
    "\n",
    "    # Decrease the fuel counter \n",
    "    self.fuel_left -= 1 \n",
    "    \n",
    "    # Reward for executing a step.\n",
    "    reward = 1      \n",
    "\n",
    "    # apply the action to the chopper\n",
    "    if action == 0:\n",
    "        self.chopper.move(0,5)\n",
    "    elif action == 1:\n",
    "        self.chopper.move(0,-5)\n",
    "    elif action == 2:\n",
    "        self.chopper.move(5,0)\n",
    "    elif action == 3:\n",
    "        self.chopper.move(-5,0)\n",
    "    elif action == 4:\n",
    "        self.chopper.move(0,0)\n",
    "\n",
    "    # Spawn a bird at the right edge with prob 0.01\n",
    "    if random.random() < 0.01:\n",
    "        \n",
    "        # Spawn a bird\n",
    "        spawned_bird = Bird(\"bird_{}\".format(self.bird_count), self.x_max, self.x_min, self.y_max, self.y_min)\n",
    "        self.bird_count += 1\n",
    "\n",
    "        # Compute the x,y co-ordinates of the position from where the bird has to be spawned\n",
    "        # Horizontally, the position is on the right edge and vertically, the height is randomly \n",
    "        # sampled from the set of permissible values\n",
    "        bird_x = self.x_max \n",
    "        bird_y = random.randrange(self.y_min, self.y_max)\n",
    "        spawned_bird.set_position(self.x_max, bird_y)\n",
    "        \n",
    "        # Append the spawned bird to the elements currently present in Env. \n",
    "        self.elements.append(spawned_bird)    \n",
    "\n",
    "    # Spawn a fuel at the bottom edge with prob 0.01\n",
    "    if random.random() < 0.01:\n",
    "        # Spawn a fuel tank\n",
    "        spawned_fuel = Fuel(\"fuel_{}\".format(self.bird_count), self.x_max, self.x_min, self.y_max, self.y_min)\n",
    "        self.fuel_count += 1\n",
    "        \n",
    "        # Compute the x,y co-ordinates of the position from where the fuel tank has to be spawned\n",
    "        # Horizontally, the position is randomly chosen from the list of permissible values and \n",
    "        # vertically, the position is on the bottom edge\n",
    "        fuel_x = random.randrange(self.x_min, self.x_max)\n",
    "        fuel_y = self.y_max\n",
    "        spawned_fuel.set_position(fuel_x, fuel_y)\n",
    "        \n",
    "        # Append the spawned fuel tank to the elemetns currently present in the Env.\n",
    "        self.elements.append(spawned_fuel)   \n",
    "\n",
    "    # For elements in the Ev\n",
    "    for elem in self.elements:\n",
    "        if isinstance(elem, Bird):\n",
    "            # If the bird has reached the left edge, remove it from the Env\n",
    "            if elem.get_position()[0] <= self.x_min:\n",
    "                self.elements.remove(elem)\n",
    "            else:\n",
    "                # Move the bird left by 5 pts.\n",
    "                elem.move(-5,0)\n",
    "            \n",
    "            # If the bird has collided.\n",
    "            if self.has_collided(self.chopper, elem):\n",
    "                # Conclude the episode and remove the chopper from the Env.\n",
    "                done = True\n",
    "                reward = -10\n",
    "                self.elements.remove(self.chopper)\n",
    "\n",
    "        if isinstance(elem, Fuel):\n",
    "            # If the fuel tank has reached the top, remove it from the Env\n",
    "            if elem.get_position()[1] <= self.y_min:\n",
    "                self.elements.remove(elem)\n",
    "            else:\n",
    "                # Move the Tank up by 5 pts.\n",
    "                elem.move(0, -5)\n",
    "                \n",
    "            # If the fuel tank has collided with the chopper.\n",
    "            if self.has_collided(self.chopper, elem):\n",
    "                # Remove the fuel tank from the env.\n",
    "                self.elements.remove(elem)\n",
    "                \n",
    "                # Fill the fuel tank of the chopper to full.\n",
    "                self.fuel_left = self.max_fuel\n",
    "    \n",
    "    # Increment the episodic return\n",
    "    self.ep_return += 1\n",
    "\n",
    "    # Draw elements on the canvas\n",
    "    self.draw_elements_on_canvas()\n",
    "\n",
    "    # If out of fuel, end the episode.\n",
    "    if self.fuel_left == 0:\n",
    "        done = True\n",
    "\n",
    "    return self.canvas, reward, done, []"
   ]
  },
  {
   "cell_type": "markdown",
   "metadata": {},
   "source": [
    "This concludes the code for our environment. Now execute some steps in the environment using an agent that takes random actions!"
   ]
  },
  {
   "cell_type": "code",
   "execution_count": null,
   "metadata": {},
   "outputs": [
    {
     "data": {
      "image/png": "[encoded data removed]",
      "text/plain": [
       "<Figure size 2160x2880 with 1 Axes>"
      ]
     },
     "metadata": {},
     "output_type": "display_data"
    }
   ],
   "source": [
    "from IPython import display\n",
    "\n",
    "env = ChopperScape()\n",
    "obs = env.reset()\n",
    "\n",
    "img = plt.imshow(env.render(mode='rgb_array')) # only call this once\n",
    "\n",
    "while True:\n",
    "    # Take a random action\n",
    "    action = env.action_space.sample()\n",
    "    obs, reward, done, info = env.step(action)\n",
    "    \n",
    "    # Render the game\n",
    "    # Renders pretty slow on the server, should definitely try locally\n",
    "    img.set_data(env.render(mode='rgb_array')) # just update the data\n",
    "    display.display(plt.gcf())\n",
    "    display.clear_output(wait=True)\n",
    "    \n",
    "    if done == True:\n",
    "        break\n",
    "\n",
    "env.close()"
   ]
  },
  {
   "cell_type": "code",
   "execution_count": null,
   "metadata": {},
   "outputs": [],
   "source": []
  }
 ],
 "metadata": {
  "kernelspec": {
   "display_name": "Python 3",
   "language": "python",
   "name": "python3"
  },
  "language_info": {
   "codemirror_mode": {
    "name": "ipython",
    "version": 3
   },
   "file_extension": ".py",
   "mimetype": "text/x-python",
   "name": "python",
   "nbconvert_exporter": "python",
   "pygments_lexer": "ipython3",
   "version": "3.6.8"
  }
 },
 "nbformat": 4,
 "nbformat_minor": 4
}
